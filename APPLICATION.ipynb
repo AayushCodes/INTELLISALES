{
 "cells": [
  {
   "cell_type": "code",
   "execution_count": 1,
   "id": "unlike-peter",
   "metadata": {},
   "outputs": [],
   "source": [
    "from PROJECT import start"
   ]
  },
  {
   "cell_type": "markdown",
   "id": "superb-interpretation",
   "metadata": {},
   "source": [
    "<h1><center>WELCOME TO INTELLISALES</center></h1>"
   ]
  },
  {
   "cell_type": "markdown",
   "id": "worst-annex",
   "metadata": {},
   "source": [
    "![nope](logo.png)"
   ]
  },
  {
   "cell_type": "code",
   "execution_count": 2,
   "id": "found-muslim",
   "metadata": {},
   "outputs": [
    {
     "data": {
      "application/vnd.jupyter.widget-view+json": {
       "model_id": "8b5ad7222d0247f395705d57c9b66479",
       "version_major": 2,
       "version_minor": 0
      },
      "text/plain": [
       "Button(description='DISPLAY', style=ButtonStyle())"
      ]
     },
     "metadata": {},
     "output_type": "display_data"
    },
    {
     "data": {
      "application/vnd.jupyter.widget-view+json": {
       "model_id": "21981b48381d4888a22eecfd8c0d708d",
       "version_major": 2,
       "version_minor": 0
      },
      "text/plain": [
       "Output()"
      ]
     },
     "metadata": {},
     "output_type": "display_data"
    },
    {
     "data": {
      "application/vnd.jupyter.widget-view+json": {
       "model_id": "28951bc8eb974aea9ef1f9e550c6207f",
       "version_major": 2,
       "version_minor": 0
      },
      "text/plain": [
       "Button(description='SELL', style=ButtonStyle())"
      ]
     },
     "metadata": {},
     "output_type": "display_data"
    },
    {
     "data": {
      "application/vnd.jupyter.widget-view+json": {
       "model_id": "874a4dbb547d4f89a86012b6ab2ae858",
       "version_major": 2,
       "version_minor": 0
      },
      "text/plain": [
       "Output()"
      ]
     },
     "metadata": {},
     "output_type": "display_data"
    },
    {
     "data": {
      "application/vnd.jupyter.widget-view+json": {
       "model_id": "8239df0b05b74dd19644650d69045faf",
       "version_major": 2,
       "version_minor": 0
      },
      "text/plain": [
       "Button(description='NEW ENTRY', style=ButtonStyle())"
      ]
     },
     "metadata": {},
     "output_type": "display_data"
    },
    {
     "data": {
      "application/vnd.jupyter.widget-view+json": {
       "model_id": "373836eff722484685e5fc7e23e12bd6",
       "version_major": 2,
       "version_minor": 0
      },
      "text/plain": [
       "Output()"
      ]
     },
     "metadata": {},
     "output_type": "display_data"
    },
    {
     "data": {
      "application/vnd.jupyter.widget-view+json": {
       "model_id": "0deefb0f0776468a800fbbb7f56c383a",
       "version_major": 2,
       "version_minor": 0
      },
      "text/plain": [
       "Button(description='BUY', style=ButtonStyle())"
      ]
     },
     "metadata": {},
     "output_type": "display_data"
    },
    {
     "data": {
      "application/vnd.jupyter.widget-view+json": {
       "model_id": "9207cfc699d54e58b66bd707ba07a55c",
       "version_major": 2,
       "version_minor": 0
      },
      "text/plain": [
       "Output()"
      ]
     },
     "metadata": {},
     "output_type": "display_data"
    },
    {
     "data": {
      "application/vnd.jupyter.widget-view+json": {
       "model_id": "ef2ee38ad5ee401d9a543b37bf61ff9f",
       "version_major": 2,
       "version_minor": 0
      },
      "text/plain": [
       "Button(description='CHECK EXPIRY', style=ButtonStyle())"
      ]
     },
     "metadata": {},
     "output_type": "display_data"
    },
    {
     "data": {
      "application/vnd.jupyter.widget-view+json": {
       "model_id": "e5360c7fd35843a0aee69b73b08c46c6",
       "version_major": 2,
       "version_minor": 0
      },
      "text/plain": [
       "Output()"
      ]
     },
     "metadata": {},
     "output_type": "display_data"
    },
    {
     "data": {
      "application/vnd.jupyter.widget-view+json": {
       "model_id": "7b06d1e691df477e9e9bf25c195b19e6",
       "version_major": 2,
       "version_minor": 0
      },
      "text/plain": [
       "Button(description='CHECK AVAILABILITY', style=ButtonStyle())"
      ]
     },
     "metadata": {},
     "output_type": "display_data"
    },
    {
     "data": {
      "application/vnd.jupyter.widget-view+json": {
       "model_id": "42f41099d488403c827295c16798da27",
       "version_major": 2,
       "version_minor": 0
      },
      "text/plain": [
       "Output()"
      ]
     },
     "metadata": {},
     "output_type": "display_data"
    },
    {
     "data": {
      "application/vnd.jupyter.widget-view+json": {
       "model_id": "f728bc4c772a424abac452e3d2415b39",
       "version_major": 2,
       "version_minor": 0
      },
      "text/plain": [
       "Button(description='CLEAR', style=ButtonStyle())"
      ]
     },
     "metadata": {},
     "output_type": "display_data"
    },
    {
     "data": {
      "application/vnd.jupyter.widget-view+json": {
       "model_id": "fa63ccb5ff7a4044ae77722d948302d5",
       "version_major": 2,
       "version_minor": 0
      },
      "text/plain": [
       "Output()"
      ]
     },
     "metadata": {},
     "output_type": "display_data"
    }
   ],
   "source": [
    "start()"
   ]
  }
 ],
 "metadata": {
  "kernelspec": {
   "display_name": "Python 3",
   "language": "python",
   "name": "python3"
  },
  "language_info": {
   "codemirror_mode": {
    "name": "ipython",
    "version": 3
   },
   "file_extension": ".py",
   "mimetype": "text/x-python",
   "name": "python",
   "nbconvert_exporter": "python",
   "pygments_lexer": "ipython3",
   "version": "3.8.3"
  }
 },
 "nbformat": 4,
 "nbformat_minor": 5
}
